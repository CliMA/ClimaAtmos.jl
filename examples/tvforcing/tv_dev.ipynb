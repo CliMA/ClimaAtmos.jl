{
 "cells": [
  {
   "cell_type": "code",
   "execution_count": 1,
   "metadata": {},
   "outputs": [],
   "source": [
    "import ClimaAtmos as CA\n",
    "import ClimaUtilities\n",
    "import ClimaUtilities: TimeVaryingInputs\n",
    "using Dates\n",
    "import ClimaCoreTempestRemap\n",
    "import ClimaCore.Fields"
   ]
  },
  {
   "cell_type": "code",
   "execution_count": 2,
   "metadata": {},
   "outputs": [],
   "source": [
    "cd(\"../../\")"
   ]
  },
  {
   "cell_type": "code",
   "execution_count": 3,
   "metadata": {},
   "outputs": [
    {
     "name": "stderr",
     "output_type": "stream",
     "text": [
      "┌ Info: Loading yaml file config/default_configs/default_config.yml\n",
      "└ @ ClimaAtmos /Users/julianschmitt/Documents/Research/loss/ClimaAtmos.jl/src/solver/types.jl:702\n",
      "┌ Info: Loading yaml file config/model_configs/prognostic_edmfx_gcmdriven_column.yml\n",
      "└ @ ClimaAtmos /Users/julianschmitt/Documents/Research/loss/ClimaAtmos.jl/src/solver/types.jl:702\n",
      "\u001b[36m\u001b[1m[ \u001b[22m\u001b[39m\u001b[36m\u001b[1mInfo: \u001b[22m\u001b[39mRunning on CPUSingleThreaded\n",
      "\u001b[36m\u001b[1m[ \u001b[22m\u001b[39m\u001b[36m\u001b[1mInfo: \u001b[22m\u001b[39mSetting up single-process ClimaAtmos run\n",
      "\u001b[36m\u001b[1m[ \u001b[22m\u001b[39m\u001b[36m\u001b[1mInfo: \u001b[22m\u001b[39mRunning ClimaCore in unthreaded mode\n",
      "\u001b[36m\u001b[1m┌ \u001b[22m\u001b[39m\u001b[36m\u001b[1mInfo: \u001b[22m\u001b[39mMaking AtmosConfig with config files: \n",
      "\u001b[36m\u001b[1m│ \u001b[22m\u001b[39m   config/default_configs/default_config.yml\n",
      "\u001b[36m\u001b[1m└ \u001b[22m\u001b[39m   config/model_configs/prognostic_edmfx_gcmdriven_column.yml\n",
      "\u001b[36m\u001b[1m[ \u001b[22m\u001b[39m\u001b[36m\u001b[1mInfo: \u001b[22m\u001b[39mUsing CAM_SE hyperdiffusion. vorticity_hyperdiffusion_coefficient, scalar_hyperdiffusion_coefficient and divergence_damping_factor in the config will be ignored.\n",
      "\u001b[36m\u001b[1m┌ \u001b[22m\u001b[39m\u001b[36m\u001b[1mInfo: \u001b[22m\u001b[39mnumerics \n",
      "\u001b[36m\u001b[1m│ \u001b[22m\u001b[39m           `energy_upwinding`::`Val{:vanleer_limiter}`\n",
      "\u001b[36m\u001b[1m│ \u001b[22m\u001b[39m           `tracer_upwinding`::`Val{:vanleer_limiter}`\n",
      "\u001b[36m\u001b[1m│ \u001b[22m\u001b[39m            `edmfx_upwinding`::`Val{:first_order}`\n",
      "\u001b[36m\u001b[1m│ \u001b[22m\u001b[39m    `edmfx_sgsflux_upwinding`::`Val{:none}`\n",
      "\u001b[36m\u001b[1m│ \u001b[22m\u001b[39m    `test_dycore_consistency`::`Nothing`\n",
      "\u001b[36m\u001b[1m└ \u001b[22m\u001b[39m                    `limiter`::`Nothing`\n",
      "\u001b[36m\u001b[1m┌ \u001b[22m\u001b[39m\u001b[36m\u001b[1mInfo: \u001b[22m\u001b[39mAtmosModel: \n",
      "\u001b[36m\u001b[1m│ \u001b[22m\u001b[39m\n",
      "\u001b[36m\u001b[1m│ \u001b[22m\u001b[39m                      `moisture_model`::`ClimaAtmos.EquilMoistModel`\n",
      "\u001b[36m\u001b[1m│ \u001b[22m\u001b[39m                        `precip_model`::`ClimaAtmos.NoPrecipitation`\n",
      "\u001b[36m\u001b[1m│ \u001b[22m\u001b[39m                         `cloud_model`::`ClimaAtmos.SGSQuadratureCloud{ClimaAtmos.SGSQuadrature{3, StaticArraysCore.SVector{3, Float32}, StaticArraysCore.SVector{3, Float32}}}`\n",
      "\u001b[36m\u001b[1m│ \u001b[22m\u001b[39m    `call_cloud_diagnostics_per_stage`::`ClimaAtmos.CallCloudDiagnosticsPerStage`\n",
      "\u001b[36m\u001b[1m│ \u001b[22m\u001b[39m                        `forcing_type`::`Nothing`\n",
      "\u001b[36m\u001b[1m│ \u001b[22m\u001b[39m                          `subsidence`::`Nothing`\n",
      "\u001b[36m\u001b[1m│ \u001b[22m\u001b[39m                               `ozone`::`ClimaAtmos.IdealizedOzone`\n",
      "\u001b[36m\u001b[1m│ \u001b[22m\u001b[39m                                 `co2`::`ClimaAtmos.FixedCO2{Float64}`\n",
      "\u001b[36m\u001b[1m│ \u001b[22m\u001b[39m                      `radiation_mode`::`ClimaAtmos.RRTMGPInterface.AllSkyRadiationWithClearSkyDiagnostics{ClimaAtmos.InteractiveCloudInRadiation}`\n",
      "\u001b[36m\u001b[1m│ \u001b[22m\u001b[39m                              `ls_adv`::`Nothing`\n",
      "\u001b[36m\u001b[1m│ \u001b[22m\u001b[39m                    `external_forcing`::`ClimaAtmos.GCMForcing{Float64}`\n",
      "\u001b[36m\u001b[1m│ \u001b[22m\u001b[39m                       `edmf_coriolis`::`Nothing`\n",
      "\u001b[36m\u001b[1m│ \u001b[22m\u001b[39m                      `tendency_model`::`ClimaAtmos.UseAllTendency`\n",
      "\u001b[36m\u001b[1m│ \u001b[22m\u001b[39m                         `edmfx_model`::`ClimaAtmos.EDMFXModel{ClimaAtmos.GeneralizedEntrainment, ClimaAtmos.GeneralizedDetrainment, Val{true}, Val{true}, Val{true}, Val{true}}`\n",
      "\u001b[36m\u001b[1m│ \u001b[22m\u001b[39m                      `turbconv_model`::`ClimaAtmos.PrognosticEDMFX{1, true, Float32}`\n",
      "\u001b[36m\u001b[1m│ \u001b[22m\u001b[39m         `non_orographic_gravity_wave`::`Nothing`\n",
      "\u001b[36m\u001b[1m│ \u001b[22m\u001b[39m             `orographic_gravity_wave`::`Nothing`\n",
      "\u001b[36m\u001b[1m│ \u001b[22m\u001b[39m                           `hyperdiff`::`ClimaAtmos.ClimaHyperdiffusion{Float32}`\n",
      "\u001b[36m\u001b[1m│ \u001b[22m\u001b[39m                           `vert_diff`::`Nothing`\n",
      "\u001b[36m\u001b[1m│ \u001b[22m\u001b[39m                           `diff_mode`::`ClimaAtmos.Implicit`\n",
      "\u001b[36m\u001b[1m│ \u001b[22m\u001b[39m                        `sgs_adv_mode`::`ClimaAtmos.Explicit`\n",
      "\u001b[36m\u001b[1m│ \u001b[22m\u001b[39m                      `viscous_sponge`::`Nothing`\n",
      "\u001b[36m\u001b[1m│ \u001b[22m\u001b[39m                   `smagorinsky_lilly`::`Nothing`\n",
      "\u001b[36m\u001b[1m│ \u001b[22m\u001b[39m                     `rayleigh_sponge`::`ClimaAtmos.RayleighSponge{Float32}`\n",
      "\u001b[36m\u001b[1m│ \u001b[22m\u001b[39m                     `sfc_temperature`::`ClimaAtmos.ZonallySymmetricSST`\n",
      "\u001b[36m\u001b[1m│ \u001b[22m\u001b[39m                          `insolation`::`ClimaAtmos.GCMDrivenInsolation`\n",
      "\u001b[36m\u001b[1m│ \u001b[22m\u001b[39m                       `surface_model`::`ClimaAtmos.PrescribedSurfaceTemperature`\n",
      "\u001b[36m\u001b[1m│ \u001b[22m\u001b[39m                      `surface_albedo`::`ClimaAtmos.ConstantAlbedo{Float32}`\n",
      "\u001b[36m\u001b[1m└ \u001b[22m\u001b[39m                            `numerics`::`ClimaAtmos.AtmosNumerics{Val{:vanleer_limiter}, Val{:vanleer_limiter}, Val{:first_order}, Val{:none}, Nothing, Nothing}`\n",
      "\u001b[36m\u001b[1m┌ \u001b[22m\u001b[39m\u001b[36m\u001b[1mInfo: \u001b[22m\u001b[39mTime info:\n",
      "\u001b[36m\u001b[1m│ \u001b[22m\u001b[39m  dt = \"10secs\"\n",
      "\u001b[36m\u001b[1m│ \u001b[22m\u001b[39m  t_end = \"6hours\"\n",
      "\u001b[36m\u001b[1m└ \u001b[22m\u001b[39m  floor_n_steps = 2160\n",
      "\u001b[36m\u001b[1m┌ \u001b[22m\u001b[39m\u001b[36m\u001b[1mInfo: \u001b[22m\u001b[39mSimulation info\n",
      "\u001b[36m\u001b[1m│ \u001b[22m\u001b[39m  job_id = \"prognostic_edmfx_gcmdriven_column\"\n",
      "\u001b[36m\u001b[1m└ \u001b[22m\u001b[39m  output_dir = \"output/prognostic_edmfx_gcmdriven_column/output_0037\"\n",
      "\u001b[33m\u001b[1m┌ \u001b[22m\u001b[39m\u001b[33m\u001b[1mWarning: \u001b[22m\u001b[39mperturb_initstate flag is ignored for single column configuration\n",
      "\u001b[33m\u001b[1m└ \u001b[22m\u001b[39m\u001b[90m@ ClimaAtmos ~/Documents/Research/loss/ClimaAtmos.jl/src/solver/type_getters.jl:175\u001b[39m\n",
      "\u001b[36m\u001b[1m┌ \u001b[22m\u001b[39m\u001b[36m\u001b[1mInfo: \u001b[22m\u001b[39mz heights\n",
      "\u001b[36m\u001b[1m│ \u001b[22m\u001b[39m  z_mesh.faces =\n",
      "\u001b[36m\u001b[1m│ \u001b[22m\u001b[39m   61-element Vector{ClimaCore.Geometry.ZPoint{Float32}}:\n",
      "\u001b[36m\u001b[1m│ \u001b[22m\u001b[39m    ZPoint(0.0)\n",
      "\u001b[36m\u001b[1m│ \u001b[22m\u001b[39m    ZPoint(30.0)\n",
      "\u001b[36m\u001b[1m│ \u001b[22m\u001b[39m    ZPoint(62.88452)\n",
      "\u001b[36m\u001b[1m│ \u001b[22m\u001b[39m    ZPoint(98.928185)\n",
      "\u001b[36m\u001b[1m│ \u001b[22m\u001b[39m    ⋮\n",
      "\u001b[36m\u001b[1m│ \u001b[22m\u001b[39m    ZPoint(36278.35)\n",
      "\u001b[36m\u001b[1m│ \u001b[22m\u001b[39m    ZPoint(38135.195)\n",
      "\u001b[36m\u001b[1m└ \u001b[22m\u001b[39m    ZPoint(40000.0)\n",
      "\u001b[36m\u001b[1m[ \u001b[22m\u001b[39m\u001b[36m\u001b[1mInfo: \u001b[22m\u001b[39mNo surface orography warp applied\n",
      "\u001b[36m\u001b[1m┌ \u001b[22m\u001b[39m\u001b[36m\u001b[1mInfo: \u001b[22m\u001b[39mResolution stats: \n",
      "\u001b[36m\u001b[1m│ \u001b[22m\u001b[39m  Nq = 1\n",
      "\u001b[36m\u001b[1m│ \u001b[22m\u001b[39m  h_elem = 6\n",
      "\u001b[36m\u001b[1m│ \u001b[22m\u001b[39m  z_elem = 60\n",
      "\u001b[36m\u001b[1m│ \u001b[22m\u001b[39m  ncols = 1\n",
      "\u001b[36m\u001b[1m└ \u001b[22m\u001b[39m  ndofs_total = 60\n",
      "\u001b[36m\u001b[1m[ \u001b[22m\u001b[39m\u001b[36m\u001b[1mInfo: \u001b[22m\u001b[39mAllocating Y: 3.471 s (6802981 allocations: 477.35 MiB)\n"
     ]
    },
    {
     "ename": "MethodError",
     "evalue": "MethodError: no method matching grav(::DateTime)\n\nClosest candidates are:\n  grav(!Matched::ClimaAtmos.Parameters.AbstractClimaAtmosParameters)\n   @ ClimaAtmos ~/Documents/Research/loss/ClimaAtmos.jl/src/parameters/Parameters.jl:124\n",
     "output_type": "error",
     "traceback": [
      "MethodError: no method matching grav(::DateTime)\n",
      "\n",
      "Closest candidates are:\n",
      "  grav(!Matched::ClimaAtmos.Parameters.AbstractClimaAtmosParameters)\n",
      "   @ ClimaAtmos ~/Documents/Research/loss/ClimaAtmos.jl/src/parameters/Parameters.jl:124\n",
      "\n",
      "\n",
      "Stacktrace:\n",
      "  [1] (::ClimaAtmos.var\"#setvar_subsidence!#195\"{…})(cc_field::ClimaCore.Fields.Field{…}, varname::String, colidx::ClimaCore.Grids.ColumnIndex{…}, zc_gcm::ClimaCore.Fields.Field{…}, zc_forcing::Base.ReshapedArray{…}, params::DateTime)\n",
      "    @ ClimaAtmos ~/Documents/Research/loss/ClimaAtmos.jl/src/prognostic_equations/forcing/external_forcing.jl:86\n",
      "  [2] (::ClimaAtmos.var\"#192#198\"{…})(colidx::ClimaCore.Grids.ColumnIndex{…})\n",
      "    @ ClimaAtmos ~/Documents/Research/loss/ClimaAtmos.jl/src/prognostic_equations/forcing/external_forcing.jl:114\n",
      "  [3] bycolumn\n",
      "    @ ~/.julia/packages/ClimaCore/NxD1F/src/Fields/indices.jl:78 [inlined]\n",
      "  [4] bycolumn\n",
      "    @ ~/.julia/packages/ClimaCore/NxD1F/src/Fields/indices.jl:100 [inlined]\n",
      "  [5] bycolumn\n",
      "    @ ~/.julia/packages/ClimaCore/NxD1F/src/Fields/indices.jl:33 [inlined]\n",
      "  [6] #191\n",
      "    @ ~/Documents/Research/loss/ClimaAtmos.jl/src/prognostic_equations/forcing/external_forcing.jl:107 [inlined]\n",
      "  [7] NCDatasets.NCDataset(::ClimaAtmos.var\"#191#193\"{…}, ::String, ::Vararg{…}; kwargs::@Kwargs{})\n",
      "    @ NCDatasets ~/.julia/packages/NCDatasets/LjXBn/src/dataset.jl:252\n",
      "  [8] NCDataset\n",
      "    @ ~/.julia/packages/NCDatasets/LjXBn/src/dataset.jl:249 [inlined]\n",
      "  [9] external_forcing_cache(Y::ClimaCore.Fields.FieldVector{…}, external_forcing::ClimaAtmos.GCMForcing{…}, params::DateTime)\n",
      "    @ ClimaAtmos ~/Documents/Research/loss/ClimaAtmos.jl/src/prognostic_equations/forcing/external_forcing.jl:68\n",
      " [10] external_forcing_cache\n",
      "    @ ~/Documents/Research/loss/ClimaAtmos.jl/src/prognostic_equations/forcing/external_forcing.jl:45 [inlined]\n",
      " [11] build_cache(Y::ClimaCore.Fields.FieldVector{…}, atmos::ClimaAtmos.AtmosModel{…}, params::ClimaAtmos.Parameters.ClimaAtmosParameters{…}, surface_setup::ClimaAtmos.SurfaceConditions.GCMDriven, sim_info::@NamedTuple{…}, aerosol_names::Tuple{})\n",
      "    @ ClimaAtmos ~/Documents/Research/loss/ClimaAtmos.jl/src/cache/cache.jl:168\n",
      " [12] macro expansion\n",
      "    @ ~/Documents/Research/loss/ClimaAtmos.jl/src/solver/type_getters.jl:724 [inlined]\n",
      " [13] macro expansion\n",
      "    @ ./timing.jl:503 [inlined]\n",
      " [14] macro expansion\n",
      "    @ ~/Documents/Research/loss/ClimaAtmos.jl/src/utils/utilities.jl:335 [inlined]\n",
      " [15] get_simulation(config::ClimaAtmos.AtmosConfig{…})\n",
      "    @ ClimaAtmos ~/Documents/Research/loss/ClimaAtmos.jl/src/solver/type_getters.jl:723\n",
      " [16] top-level scope\n",
      "    @ ~/Documents/Research/loss/ClimaAtmos.jl/examples/tvforcing/jl_notebook_cell_df34fa98e69747e1a8f8a730347b8e2f_W2sZmlsZQ==.jl:3\n",
      "Some type information was truncated. Use `show(err)` to see complete types."
     ]
    }
   ],
   "source": [
    "# get simulation object so as to get target_space\n",
    "config = CA.AtmosConfig(\"config/model_configs/prognostic_edmfx_gcmdriven_column.yml\")\n",
    "simulation = CA.get_simulation(config)"
   ]
  },
  {
   "cell_type": "code",
   "execution_count": 4,
   "metadata": {},
   "outputs": [
    {
     "data": {
      "text/plain": [
       "ClimaCore.Geometry.XYZPoint{Float32}-valued Field:\n",
       "  x: Float32[0.5, 0.5, 0.5, 0.5, 0.5, 0.5, 0.5, 0.5, 0.5, 0.5  …  0.5, 0.5, 0.5, 0.5, 0.5, 0.5, 0.5, 0.5, 0.5, 0.5]\n",
       "  y: Float32[0.5, 0.5, 0.5, 0.5, 0.5, 0.5, 0.5, 0.5, 0.5, 0.5  …  0.5, 0.5, 0.5, 0.5, 0.5, 0.5, 0.5, 0.5, 0.5, 0.5]\n",
       "  z: Float32[15.0, 46.4423, 80.9064, 118.68, 160.076, 205.44, 255.145, 309.601, 369.254, 434.591  …  23340.1, 24915.8, 26546.9, 28229.2, 29957.5, 31726.0, 33528.5, 35357.8, 37206.8, 39067.6]"
      ]
     },
     "metadata": {},
     "output_type": "display_data"
    }
   ],
   "source": [
    "Fields.coordinate_field(simulation.integrator.u.c.ρ)"
   ]
  },
  {
   "cell_type": "code",
   "execution_count": 5,
   "metadata": {},
   "outputs": [
    {
     "data": {
      "text/plain": [
       "\"/Users/julianschmitt/Documents/Research/loss/ClimaAtmos.jl\""
      ]
     },
     "metadata": {},
     "output_type": "display_data"
    }
   ],
   "source": [
    "pwd()"
   ]
  },
  {
   "cell_type": "code",
   "execution_count": 23,
   "metadata": {},
   "outputs": [
    {
     "ename": "BoundsError",
     "evalue": "BoundsError: attempt to access Tuple{Float64} at index [0]",
     "output_type": "error",
     "traceback": [
      "BoundsError: attempt to access Tuple{Float64} at index [0]\n",
      "\n",
      "Stacktrace:\n",
      " [1] getindex(t::Tuple, i::Int64)\n",
      "   @ Base ./tuple.jl:31\n",
      " [2] top-level scope\n",
      "   @ ~/Documents/Research/loss/ClimaAtmos.jl/examples/tvforcing/jl_notebook_cell_df34fa98e69747e1a8f8a730347b8e2f_X14sZmlsZQ==.jl:9"
     ]
    }
   ],
   "source": [
    "using NCDatasets\n",
    "ds = NCDataset(\"examples/tvforcing/sim_forcing_site23_ng_xyz.nc\")\n",
    "\n",
    "ds[\"z\"][:]\n",
    "start_time = DateTime(\"20070701\", \"yyyymmdd\")\n",
    "\n",
    "time_index = argmin(abs.(ds[\"time\"][:] .- start_time))\n",
    "\n",
    "(ds[\"ts\"][1, 1, 1, time_index],)[0]"
   ]
  },
  {
   "cell_type": "code",
   "execution_count": 6,
   "metadata": {},
   "outputs": [],
   "source": [
    "start_time = DateTime(2007, 7, 1)\n",
    "tv = TimeVaryingInputs.TimeVaryingInput([\"examples/tvforcing/sim_forcing_site23_ng_xyz.nc\"],\n",
    "                                [\"ta\"],\n",
    "                                axes(similar(simulation.integrator.u.c.ρ));\n",
    "                                reference_date = start_time,\n",
    "                                regridder_type = :InterpolationsRegridder,\n",
    ");"
   ]
  },
  {
   "cell_type": "code",
   "execution_count": 7,
   "metadata": {},
   "outputs": [
    {
     "data": {
      "text/plain": [
       "Float32-valued Field:\n",
       "  Float32[297.298, 296.994, 296.662, 296.297, 295.898, 295.461, 294.981, 294.456, 293.896, 293.352  …  214.717, 219.889, 225.916, 227.766, 229.666, 232.685, 237.697, 239.797, 245.012, 251.404]"
      ]
     },
     "metadata": {},
     "output_type": "display_data"
    }
   ],
   "source": [
    "import ClimaCore:Fields\n",
    "F1 = zero(simulation.integrator.u.c.ρ)\n",
    "next_t = start_time + Dates.Second(100000)\n",
    "next_t\n",
    "TimeVaryingInputs.evaluate!(F1, tv, next_t)\n",
    "F1"
   ]
  },
  {
   "cell_type": "code",
   "execution_count": 27,
   "metadata": {},
   "outputs": [
    {
     "data": {
      "text/plain": [
       "ClimaCore.Geometry.XYZPoint{Float32}"
      ]
     },
     "metadata": {},
     "output_type": "display_data"
    }
   ],
   "source": [
    "eltype(Fields.coordinate_field(Fields.level(simulation.integrator.u.c.ρ, 1)))"
   ]
  },
  {
   "cell_type": "code",
   "execution_count": 30,
   "metadata": {},
   "outputs": [
    {
     "data": {
      "text/plain": [
       "SpectralElementSpace2D:\n",
       "  quadrature: 1-point Gauss-Legendre quadrature"
      ]
     },
     "metadata": {},
     "output_type": "display_data"
    }
   ],
   "source": [
    "#length(parent(Fields.coordinate_field(Fields.level(simulation.integrator.u.c.ρ, 1)).z)[:]) ==1\n",
    "axes(similar(Fields.level(simulation.integrator.u.c.ρ, 1), FT))"
   ]
  },
  {
   "cell_type": "code",
   "execution_count": 14,
   "metadata": {},
   "outputs": [
    {
     "data": {
      "text/plain": [
       "Float32-valued Field:\n",
       "  Float32[0.735423]"
      ]
     },
     "metadata": {},
     "output_type": "display_data"
    }
   ],
   "source": [
    "import ClimaCore: Fields\n",
    "FT = Float32\n",
    "tv = TimeVaryingInputs.TimeVaryingInput([\"examples/tvforcing/sim_forcing_site23_ng_xyz.nc\"],\n",
    "                                [\"coszen\"],\n",
    "                                axes(similar(Fields.level(simulation.integrator.u.c.ρ, 1), FT));\n",
    "                                reference_date = start_time,\n",
    "                                regridder_type = :InterpolationsRegridder,\n",
    ");\n",
    "F1 = zero(Fields.level(simulation.integrator.u.c.ρ, 1))\n",
    "next_t = start_time + Dates.Second(3600 * 1)\n",
    "next_t\n",
    "TimeVaryingInputs.evaluate!(F1, tv, next_t)\n",
    "F1"
   ]
  },
  {
   "cell_type": "code",
   "execution_count": null,
   "metadata": {},
   "outputs": [],
   "source": []
  }
 ],
 "metadata": {
  "kernelspec": {
   "display_name": "Julia 1.10.5",
   "language": "julia",
   "name": "julia-1.10"
  },
  "language_info": {
   "file_extension": ".jl",
   "mimetype": "application/julia",
   "name": "julia",
   "version": "1.10.6"
  }
 },
 "nbformat": 4,
 "nbformat_minor": 2
}
